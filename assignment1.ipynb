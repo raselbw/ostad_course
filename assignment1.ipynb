{
  "cells": [
    {
      "cell_type": "markdown",
      "metadata": {},
      "source": [
        "# Assignment: 01 (Loops Strings and Smart Operations)"
      ]
    },
    {
      "cell_type": "markdown",
      "metadata": {
        "id": "yY21wm17e7-p"
      },
      "source": [
        "## Problem: 01\n",
        "\n",
        "**Question:** Write a Python program that takes a number as input and checks whether it is even or odd.\n",
        "\n",
        "**Answer:**"
      ]
    },
    {
      "cell_type": "code",
      "execution_count": null,
      "metadata": {
        "colab": {
          "base_uri": "https://localhost:8080/"
        },
        "id": "rK1n2-L8fC5r",
        "outputId": "5c69d46a-b35d-4207-9a5a-13bd2d85cc2a"
      },
      "outputs": [
        {
          "name": "stdout",
          "output_type": "stream",
          "text": [
            "Enter an integer number:32\n",
            "The number 32 is even\n"
          ]
        }
      ],
      "source": [
        "num = input(\"Enter an integer number:\")\n",
        "num = int(num)\n",
        "if num % 2 == 0:\n",
        "    print(\"The number\", num, \"is even\")\n",
        "else:\n",
        "    print(\"The number\", num, \"is odd\")"
      ]
    },
    {
      "cell_type": "markdown",
      "metadata": {
        "id": "aECgts91fUuQ"
      },
      "source": [
        "## Problem: 02\n",
        "\n",
        "**Question:** Write a program that takes two numbers and an operator (+, -, *, /) and performs the calculation.\n",
        "\n",
        "**Answer:**"
      ]
    },
    {
      "cell_type": "code",
      "execution_count": null,
      "metadata": {
        "colab": {
          "base_uri": "https://localhost:8080/"
        },
        "id": "f9FPyS2dfWp9",
        "outputId": "763b027f-8753-4823-f3a9-0be46b5d7888"
      },
      "outputs": [
        {
          "name": "stdout",
          "output_type": "stream",
          "text": [
            "Enter a number:23\n",
            "Enter another number:43\n",
            "Enter any of the four oprators (+, - *, /):/\n",
            "23.0 / 43.0 is 0.5348837209302325\n"
          ]
        }
      ],
      "source": [
        "x = input(\"Enter a number:\")\n",
        "y = input(\"Enter another number:\")\n",
        "opera = input(\"Enter any of the four oprators (+, - *, /):\")\n",
        "x = float(x)\n",
        "y = float(y)\n",
        "\n",
        "if opera == \"+\":\n",
        "    result = x + y\n",
        "elif opera == \"-\":\n",
        "    result = x - y\n",
        "elif opera == \"*\":\n",
        "    result = x * y\n",
        "elif opera == \"/\":\n",
        "    result = x / y\n",
        "else:\n",
        "    result = \"Unknown operator\"\n",
        "\n",
        "print(\"{} {} {} is {}\".format(x, opera, y, result))"
      ]
    },
    {
      "cell_type": "markdown",
      "metadata": {
        "id": "EdgbfaCgfef5"
      },
      "source": [
        "## Problem: 03\n",
        "\n",
        "**Question:** Write a program using a for loop that calculates the sum of even numbers between 1 and 100.\n",
        "\n",
        "**Answer:**"
      ]
    },
    {
      "cell_type": "code",
      "execution_count": null,
      "metadata": {
        "colab": {
          "base_uri": "https://localhost:8080/"
        },
        "id": "VGQOxlZ3fgqu",
        "outputId": "46b08d2c-258f-44c0-9a40-05d0034bca80"
      },
      "outputs": [
        {
          "name": "stdout",
          "output_type": "stream",
          "text": [
            "The sum of even numbers between 1 and 100 is 2550\n"
          ]
        }
      ],
      "source": [
        "sum=0\n",
        "for i in range(1, 101):\n",
        "    if i % 2 == 0:\n",
        "        sum+=i\n",
        "print(\"The sum of even numbers between 1 and 100 is\", sum)"
      ]
    }
  ],
  "metadata": {
    "colab": {
      "provenance": []
    },
    "kernelspec": {
      "display_name": "Python 3",
      "name": "python3"
    },
    "language_info": {
      "name": "python"
    }
  },
  "nbformat": 4,
  "nbformat_minor": 0
}
