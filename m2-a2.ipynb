{
 "cells": [
  {
   "cell_type": "markdown",
   "id": "cc7c7995",
   "metadata": {},
   "source": [
    "# Module 2 Assignment 2: Advanced-Data Structures and Comparison\n",
    "\n",
    "\n",
    "## Problem: 01\n",
    "\n",
    "Write a Python program that takes two sets from the user and computes their union, intersection, and difference.\n",
    "\n",
    "`A = {1, 2, 3, 4, 5}`\n",
    "\n",
    "`B = {4, 5, 6, 7, 8}`\n"
   ]
  },
  {
   "cell_type": "code",
   "execution_count": 1,
   "id": "144f315a",
   "metadata": {},
   "outputs": [
    {
     "name": "stdout",
     "output_type": "stream",
     "text": [
      "Union: {1, 2, 3, 4, 5, 6, 7, 8}\n",
      "Intersection: {4, 5}\n",
      "A-B: {1, 2, 3}\n",
      "B-A: {8, 6, 7}\n"
     ]
    }
   ],
   "source": [
    "#a = {1, 2, 3, 4, 5}\n",
    "#b = {4, 5, 6, 7, 8}\n",
    "a = input(\"Enter elements of Set A separated by spaces: \")\n",
    "a = set(a.split())\n",
    "a = {int(i) for i in a}\n",
    "\n",
    "b = input(\"Enter elements of Set B separated by spaces: \")\n",
    "b = set(b.split())\n",
    "b = {int(i) for i in b}\n",
    "\n",
    "a_union_b = a | b\n",
    "a_intersection_b = a & b\n",
    "a_diff_b = a - b\n",
    "b_diff_a = b - a\n",
    "\n",
    "print(\"Union:\", a_union_b)\n",
    "print(\"Intersection:\", a_intersection_b)\n",
    "print(\"A-B:\", a_diff_b)\n",
    "print(\"B-A:\", b_diff_a)"
   ]
  }
 ],
 "metadata": {
  "kernelspec": {
   "display_name": "r-reticulate",
   "language": "python",
   "name": "python3"
  },
  "language_info": {
   "codemirror_mode": {
    "name": "ipython",
    "version": 3
   },
   "file_extension": ".py",
   "mimetype": "text/x-python",
   "name": "python",
   "nbconvert_exporter": "python",
   "pygments_lexer": "ipython3",
   "version": "3.13.2"
  }
 },
 "nbformat": 4,
 "nbformat_minor": 5
}
