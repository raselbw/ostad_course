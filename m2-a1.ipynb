{
 "cells": [
  {
   "cell_type": "markdown",
   "id": "134e27dc",
   "metadata": {},
   "source": [
    "# Module 2 Assignment 1: Understanding Data Structures and Functions"
   ]
  },
  {
   "cell_type": "markdown",
   "id": "49f16b21",
   "metadata": {},
   "source": [
    "## Problem: 01\n",
    "\n",
    "**Question:** Write a function that takes two numbers as input and returns their average. Call the function with different values.\n",
    "\n",
    "**Answer:**"
   ]
  },
  {
   "cell_type": "code",
   "execution_count": 7,
   "id": "6b24b1d0",
   "metadata": {},
   "outputs": [
    {
     "name": "stdout",
     "output_type": "stream",
     "text": [
      "15.0\n",
      "5.0\n",
      "60.3995\n"
     ]
    }
   ],
   "source": [
    "def avg(num1, num2):\n",
    "    avg = (num1 + num2)/2\n",
    "    return avg\n",
    "\n",
    "print(avg(10, 20))\n",
    "print(avg(4.5, 5.5))\n",
    "print(avg(100.256, 20.543))"
   ]
  },
  {
   "cell_type": "markdown",
   "id": "e16dd048",
   "metadata": {},
   "source": [
    "## Problem: 02\n",
    "\n",
    "**Question:** Write a function that sorts a list of strings alphabetically. \n",
    "`[\"apple\", \"banana\", \"cherry\", \"kiwi\", \"grape\"]`\n",
    "\n",
    "**Answer:**\n"
   ]
  },
  {
   "cell_type": "code",
   "execution_count": 8,
   "id": "708b0c21",
   "metadata": {},
   "outputs": [
    {
     "name": "stdout",
     "output_type": "stream",
     "text": [
      "['apple', 'banana', 'cherry', 'grape', 'kiwi']\n"
     ]
    }
   ],
   "source": [
    "li = [\"apple\", \"banana\", \"cherry\", \"kiwi\", \"grape\"]\n",
    "\n",
    "def sort_a_list_of_strings(lst):\n",
    "    return sorted(lst)\n",
    "\n",
    "print(sort_a_list_of_strings(li))"
   ]
  },
  {
   "cell_type": "markdown",
   "id": "dea6178d",
   "metadata": {},
   "source": [
    "## Problem: 03\n",
    "\n",
    "**Question:** Write a Python program that creates a new list containing only the duplicate elements from the given list: `[1, 5, 6, 5, 1, 2, 3]`.\n",
    "\n",
    "**Answer:**"
   ]
  },
  {
   "cell_type": "code",
   "execution_count": 9,
   "id": "b3b71ea0",
   "metadata": {},
   "outputs": [
    {
     "name": "stdout",
     "output_type": "stream",
     "text": [
      "[1, 5]\n"
     ]
    }
   ],
   "source": [
    "li = [1, 5, 6, 5, 1, 2, 3]\n",
    "duplicates = set()\n",
    "for i in li:\n",
    "    if li.count(i) > 1:\n",
    "        duplicates.add(i)\n",
    "li2 = list(duplicates)       \n",
    "print(li2)"
   ]
  }
 ],
 "metadata": {
  "kernelspec": {
   "display_name": "r-reticulate",
   "language": "python",
   "name": "python3"
  },
  "language_info": {
   "codemirror_mode": {
    "name": "ipython",
    "version": 3
   },
   "file_extension": ".py",
   "mimetype": "text/x-python",
   "name": "python",
   "nbconvert_exporter": "python",
   "pygments_lexer": "ipython3",
   "version": "3.13.2"
  }
 },
 "nbformat": 4,
 "nbformat_minor": 5
}
