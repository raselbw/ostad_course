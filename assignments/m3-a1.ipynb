{
 "cells": [
  {
   "cell_type": "markdown",
   "id": "5e7ea0f0",
   "metadata": {},
   "source": [
    "# \"Assignment 01: Introduction to OOP Concepts\n",
    "\n",
    "## Question 1\n",
    "Create a class Person with attributes name and age. Create an object and display its details.    \n",
    "\n",
    "Input: Person(\"Alice\", 25)  \n",
    "Output: Name: Alice, Age: 25"
   ]
  },
  {
   "cell_type": "code",
   "execution_count": 1,
   "id": "87106416",
   "metadata": {},
   "outputs": [],
   "source": [
    "class Person:\n",
    "    def __init__(self, name, age):\n",
    "        self.name = name\n",
    "        self.age = age\n",
    "\n",
    "    def display(self):\n",
    "        print(f\"Name: {self.name}, Age: {self.age}\")"
   ]
  },
  {
   "cell_type": "code",
   "execution_count": null,
   "id": "677386e3",
   "metadata": {},
   "outputs": [
    {
     "name": "stdout",
     "output_type": "stream",
     "text": [
      "Name: Alice, Age: 25\n"
     ]
    }
   ],
   "source": [
    "a = Person(\"Alice\", 25)\n",
    "a.display()"
   ]
  }
 ],
 "metadata": {
  "kernelspec": {
   "display_name": "r-reticulate",
   "language": "python",
   "name": "python3"
  },
  "language_info": {
   "codemirror_mode": {
    "name": "ipython",
    "version": 3
   },
   "file_extension": ".py",
   "mimetype": "text/x-python",
   "name": "python",
   "nbconvert_exporter": "python",
   "pygments_lexer": "ipython3",
   "version": "3.13.2"
  }
 },
 "nbformat": 4,
 "nbformat_minor": 5
}
